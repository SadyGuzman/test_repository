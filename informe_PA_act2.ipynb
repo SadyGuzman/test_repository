{
 "cells": [
  {
   "cell_type": "markdown",
   "id": "ea6dfcb6-b8d8-44f8-9d11-8ca1ff6704b7",
   "metadata": {},
   "source": [
    "# Informe Programación Avanazada - Actividad Laboratorio 2 - Docker/PySpark"
   ]
  },
  {
   "cell_type": "markdown",
   "id": "9a22f8a2-d9c6-4fe7-a08f-9ef044b6a6b9",
   "metadata": {},
   "source": [
    "En esta actividad se va a usar Docker para crear un container con las imagenes de PySpark y Jupyter Notebook para hacer un estudio sobre un dataset de pasajeros del R.M.S. Titanic. <br>\n",
    "Incluye datos como Edad, Género, Clase de viaje, Sobrevivencia. Tambien incluye otros datos como el ID, Numero de Ticket, Cantidad de Familiares, Puerto de embarque. Estos Campos no se van a usar porque no son relevantes para esta investigación.\n",
    "\n",
    "Se plantea una Pregunta de Investigación, Cual es el perfil de la persona con mas posibilidades de supervivencia en el evento del Titanic.\n",
    "\n",
    "- - -"
   ]
  },
  {
   "cell_type": "markdown",
   "id": "2f3cbb7c-f7b8-4b03-bff3-fac29bef3979",
   "metadata": {},
   "source": [
    "# 1.- instalación y Configuración"
   ]
  },
  {
   "cell_type": "markdown",
   "id": "11199ca5-659c-44ee-bf0c-c85e2f858f41",
   "metadata": {},
   "source": [
    "Primero se descarga Docker Desktop del sitio oficial https://www.docker.com/products/docker-desktop/.  \n",
    "\n",
    "Una vez terminada la instalacion, Se crea un archivo '.yml' llamado 'docker-compose', Se puede llamar de otra forma pero eso hace necesario especificar el nombre en el despliegue.\n",
    "\n",
    "En el archivo Docker-Compose hay que especificar las imagenes y puertos que se van a utilizar para el trabajo, En este caso Spark y Jupyter. El paso mas importante de la creacion del archivo docker-compose\n",
    "es usar 'volumes' para obtener persistencia de informacion dentro del container. <br>\n",
    "En este caso volumes resulta de la siguiente manera:\n",
    "```\n",
    "volumes:\n",
    "      - E:\\Programacion_Avanzada_ULS\\PA_ActividadDockerSpark:/home/jovyan/work\n",
    "```\n",
    "\n",
    "Despues de terminar con la configuracion del archivo 'docker-compose.yml' se hace el despliegue usando <b>'docker compose up'.</b>.<br>\n",
    "La primera vez se demora bastante. En este caso tardo 41 minutos en completar. <br> <br>\n",
    "\n",
    "Usando <b>docker ps</b> se pueden ver los servicios creados que esten corriendo.\n",
    "\n",
    "![Local Image](./informe_PA/docker_ps.png)<br><br>\n",
    "\n",
    "En docker-compose se usan servicios: 2 Trabajadores de Spark, 1 Spark Master para controlar los dos trabajadores, JupyterLab para trabajar con Sparks sobre DataSet.<br>\n",
    "En archivo se especifican los puertos para acceder a Jupyter, :8888, Tambien para acceder a Spark Master :8080, Tambien para que los trabajadores se comuniquen con su Maestro, :7077.\n",
    "\n",
    "- - -"
   ]
  },
  {
   "cell_type": "markdown",
   "id": "3609fb0e-aafa-42d3-8440-e56660b4b44a",
   "metadata": {},
   "source": [
    "# 2.- creación de Notebook y Manejo de Archivos Entre Host y Container"
   ]
  },
  {
   "cell_type": "markdown",
   "id": "222e3111-6c9b-4f97-8813-e34089c290bc",
   "metadata": {},
   "source": [
    "   Ingresando a <b>'http://localhost:8888'</b>, Que fue el puerto especificado en docker-compose, Se puede entrar a JupyterLab.<br>\n",
    "   Ingresando a <b>'http://localhost:8080'</b>, Que fue el puerto especificado en docker-compose, Se puede entrar a Spark Master Web UI.\n",
    "\n",
    "![Local Image](./informe_PA/3.png)<br>\n",
    "![Local Image](./informe_PA/4.png)<br>\n",
    "\n",
    "<br><br><br>\n",
    "Para poder acceder a Jupyter Lab hay que usar un Tocken que se obtiene usando <b>'docker logs jupyter'</b><br>\n",
    "![Local Image](./informe_PA/7.png)<br>\n",
    "![Local Image](./informe_PA/8.png)<br><br>\n",
    "\n",
    "Una vez dentro, Se puede usar Jupyter Lab normalmente.<br><br>\n",
    "\n",
    "Desde aqui volumes de Docker se encarga de manejar los archivos.\n",
    "\n",
    "En caso de no usar Volumes, Para copiar archivos entre Host y Container y puede usar <b>'Docker cp root_S root_D'</b><br>\n",
    "![Local Image](./informe_PA/15.png)<br>\n",
    "\n",
    "\n",
    "  - - -"
   ]
  },
  {
   "cell_type": "markdown",
   "id": "14f20b0b-c782-4aa4-8e6f-a7193aa47af0",
   "metadata": {},
   "source": [
    "# 3.- Calculos"
   ]
  },
  {
   "cell_type": "markdown",
   "id": "50f2c56b-8fe6-4d8b-86d0-3ab1e68bc34e",
   "metadata": {},
   "source": [
    "Con los resultados de los calculos hechos sobre el DataSet se espera poder descubrir el perfil de una persona con alta esperanza de supervivencia.<br>\n",
    "Los resultados que se usan en este item tienen de los calculos hechos en el Notebook de calculos de la Actividad. Llamado 'PA_Spark_Act.ipynb'"
   ]
  },
  {
   "cell_type": "markdown",
   "id": "ce0a37e7-2d2a-4059-a0b3-38e098939f74",
   "metadata": {},
   "source": [
    "##  3.1.- Se observa la **Edad** de los pasajeros."
   ]
  },
  {
   "cell_type": "markdown",
   "id": "80378186-e0dd-4d3e-b77c-4f304b058c6c",
   "metadata": {},
   "source": [
    "Edad promedio de supervivientes y fallecidos.<br>\n",
    "\n",
    "```\n",
    "+--------+------------------+\n",
    "|Survived|      averageValue|\n",
    "+--------+------------------+\n",
    "|       1|28.343689655172415|\n",
    "|       0| 30.62617924528302|\n",
    "+--------+------------------+\n",
    "\n",
    "Survived: 1 Sobrevive, 0 No Sobrevive\n",
    "```\n",
    "La edad promedio es casi la misma. Por lo que no se va a usar como una variable en el perfil que se está buscando.\n",
    "- - -"
   ]
  },
  {
   "cell_type": "markdown",
   "id": "444581e9-aaa0-43a8-ae5e-2ffb2fad8ede",
   "metadata": {},
   "source": [
    "## 3.2.- Se observa **Género** de los pasajeros."
   ]
  },
  {
   "cell_type": "markdown",
   "id": "6e5a3c99-4068-4232-886f-e9d90699adb9",
   "metadata": {
    "editable": true,
    "slideshow": {
     "slide_type": ""
    },
    "tags": []
   },
   "source": [
    "Cantidad de pasajeros fallecidos Hombre(Male) y Mujer(Female)\n",
    "\n",
    "```\n",
    "Cantidad de fallecidos por genero\n",
    "+------+-----+\n",
    "|   Sex|Count|\n",
    "+------+-----+\n",
    "|female|   81|\n",
    "|  male|  468|\n",
    "+------+-----+\n",
    "```\n",
    "\n",
    "Segun los resultados la cantidad total de victimas *Hombre* es mucho mayor, Pero para hacer una comparacion real hay que calcular el porcentaje de supervivencia relativo al Género.<br>\n",
    "Para eso se necesita como dato extra la cantidad *Total* de pasajeros *Hombre* y *Mujer*. A continuacion se obtiene"
   ]
  },
  {
   "cell_type": "code",
   "execution_count": null,
   "id": "cb7232cb-a48e-4bbe-ad87-25aae0c0348a",
   "metadata": {},
   "outputs": [],
   "source": []
  }
 ],
 "metadata": {
  "kernelspec": {
   "display_name": "Python 3 (ipykernel)",
   "language": "python",
   "name": "python3"
  },
  "language_info": {
   "codemirror_mode": {
    "name": "ipython",
    "version": 3
   },
   "file_extension": ".py",
   "mimetype": "text/x-python",
   "name": "python",
   "nbconvert_exporter": "python",
   "pygments_lexer": "ipython3",
   "version": "3.11.6"
  }
 },
 "nbformat": 4,
 "nbformat_minor": 5
}
